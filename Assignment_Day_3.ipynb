{
  "nbformat": 4,
  "nbformat_minor": 0,
  "metadata": {
    "colab": {
      "name": "Assignment Day 3.ipynb",
      "provenance": [],
      "collapsed_sections": []
    },
    "kernelspec": {
      "name": "python3",
      "display_name": "Python 3"
    }
  },
  "cells": [
    {
      "cell_type": "markdown",
      "metadata": {
        "id": "jfrTYPCn1Ait",
        "colab_type": "text"
      },
      "source": [
        "# Question 1 :\n",
        "Write a program to subtract two complex numbers in Python.\n"
      ]
    },
    {
      "cell_type": "code",
      "metadata": {
        "id": "V0uyvdns1CrC",
        "colab_type": "code",
        "colab": {
          "base_uri": "https://localhost:8080/",
          "height": 34
        },
        "outputId": "76fc95ea-6bef-49eb-dc42-3bf74d0970fd"
      },
      "source": [
        "def subComplex( z1, z2): \n",
        "    return z1-z2 \n",
        "z1 = complex(2, 3) \n",
        "z2 = complex(1, 2) \n",
        "print( \"Subtraction is : \", subComplex(z1, z2))"
      ],
      "execution_count": null,
      "outputs": [
        {
          "output_type": "stream",
          "text": [
            "Subtraction is :  (1+1j)\n"
          ],
          "name": "stdout"
        }
      ]
    },
    {
      "cell_type": "markdown",
      "metadata": {
        "id": "eoL7EHrZ1f0t",
        "colab_type": "text"
      },
      "source": [
        "# Question 2 :\n",
        "Write a program to find the fourth root of a number."
      ]
    },
    {
      "cell_type": "code",
      "metadata": {
        "id": "CR5_VacS1cM5",
        "colab_type": "code",
        "colab": {}
      },
      "source": [
        "import math\n",
        "import random"
      ],
      "execution_count": null,
      "outputs": []
    },
    {
      "cell_type": "code",
      "metadata": {
        "id": "hF2vDMqG2GmL",
        "colab_type": "code",
        "colab": {
          "base_uri": "https://localhost:8080/",
          "height": 34
        },
        "outputId": "1680b380-2e6c-47be-d796-b030ffcb123f"
      },
      "source": [
        "def nthRoot(A,N):\n",
        "   xPre = random.randint(1,101) % 10\n",
        "   eps = 0.001\n",
        "   delX = 2147483647\n",
        "   xK=0.0\n",
        "   while (delX > eps):\n",
        "     xK = ((N - 1.0) * xPre + A/pow(xPre, N-1)) /N\n",
        "     delX = abs(xK - xPre) \n",
        "     xPre = xK;\n",
        "     return xK\n",
        "\n",
        "N = 4\n",
        "A = 81\n",
        "nthRootValue = nthRoot(A, N)\n",
        "print(\"Nth root is \", nthRootValue)"
      ],
      "execution_count": null,
      "outputs": [
        {
          "output_type": "stream",
          "text": [
            "Nth root is  4.03125\n"
          ],
          "name": "stdout"
        }
      ]
    },
    {
      "cell_type": "markdown",
      "metadata": {
        "id": "2u3TCTxm4Uhh",
        "colab_type": "text"
      },
      "source": [
        "# Question 3:\n",
        "Write a program to swap two numbers in Python with the help of a temporary variable.\n"
      ]
    },
    {
      "cell_type": "code",
      "metadata": {
        "id": "ReZWapig2qZu",
        "colab_type": "code",
        "colab": {
          "base_uri": "https://localhost:8080/",
          "height": 51
        },
        "outputId": "4b221fbe-9b55-4f99-ceab-8a0b95500cb9"
      },
      "source": [
        "x = 5\n",
        "y = 10\n",
        "temp = x\n",
        "x = y\n",
        "y = temp\n",
        "print('The value of x after swapping: {}'.format(x))\n",
        "print('The value of y after swapping: {}'.format(y))"
      ],
      "execution_count": null,
      "outputs": [
        {
          "output_type": "stream",
          "text": [
            "The value of x after swapping: 10\n",
            "The value of y after swapping: 5\n"
          ],
          "name": "stdout"
        }
      ]
    },
    {
      "cell_type": "markdown",
      "metadata": {
        "id": "BWx4eOQM4thN",
        "colab_type": "text"
      },
      "source": [
        "# Question 4:\n",
        "Write a program to swap two numbers in Python without using a temporary variable."
      ]
    },
    {
      "cell_type": "code",
      "metadata": {
        "id": "4PreetQ44qsu",
        "colab_type": "code",
        "colab": {
          "base_uri": "https://localhost:8080/",
          "height": 34
        },
        "outputId": "21bf6311-1d74-4a18-e395-4fea85216bda"
      },
      "source": [
        "x=10\n",
        "y=5\n",
        "x=x+y\n",
        "y=x-y\n",
        "x=x-y\n",
        "print(\"After Swapping: x =\", x, \" y =\", y)"
      ],
      "execution_count": null,
      "outputs": [
        {
          "output_type": "stream",
          "text": [
            "After Swapping: x = 5  y = 10\n"
          ],
          "name": "stdout"
        }
      ]
    },
    {
      "cell_type": "markdown",
      "metadata": {
        "id": "aUTVFJM95Y1m",
        "colab_type": "text"
      },
      "source": [
        "# Question 5:\n",
        "Write a program to convert fahrenheit to kelvin and celsius both.\n"
      ]
    },
    {
      "cell_type": "code",
      "metadata": {
        "id": "5ziZXp-L5WMA",
        "colab_type": "code",
        "colab": {
          "base_uri": "https://localhost:8080/",
          "height": 34
        },
        "outputId": "68e8df6a-f33e-48ae-c437-74ee65e0a48c"
      },
      "source": [
        "def Fahrenheit_to_Kelvin(F): \n",
        "    return 273.5 + ((F - 32.0) * (5.0/9.0)) \n",
        "F = 100\n",
        "print(\"Temperature in Kelvin ( K ) = {:.3f}\".format(Fahrenheit_to_Kelvin( F )))"
      ],
      "execution_count": null,
      "outputs": [
        {
          "output_type": "stream",
          "text": [
            "Temperature in Kelvin ( K ) = 311.278\n"
          ],
          "name": "stdout"
        }
      ]
    },
    {
      "cell_type": "code",
      "metadata": {
        "id": "bDCQTCGo5wAM",
        "colab_type": "code",
        "colab": {
          "base_uri": "https://localhost:8080/",
          "height": 51
        },
        "outputId": "60448f48-0aa0-47cc-80ef-795bb4f79c93"
      },
      "source": [
        "fahrenheit = float(input(\"Enter temperature in fahrenheit: \"))\n",
        "celsius = (fahrenheit - 32) * 5/9\n",
        "print('%.2f Fahrenheit is: %0.2f Celsius' %(fahrenheit, celsius))"
      ],
      "execution_count": null,
      "outputs": [
        {
          "output_type": "stream",
          "text": [
            "Enter temperature in fahrenheit: 100\n",
            "100.00 Fahrenheit is: 37.78 Celsius\n"
          ],
          "name": "stdout"
        }
      ]
    },
    {
      "cell_type": "markdown",
      "metadata": {
        "id": "2_MMzsJU6Jee",
        "colab_type": "text"
      },
      "source": [
        "# Question 6:\n",
        "Write a program to demonstrate all the available data types in Python. Hint: Use type() function."
      ]
    },
    {
      "cell_type": "code",
      "metadata": {
        "id": "Ec6RhZ8U6D3o",
        "colab_type": "code",
        "colab": {
          "base_uri": "https://localhost:8080/",
          "height": 34
        },
        "outputId": "144b17aa-13d0-460f-f59c-449ff2f3f5c3"
      },
      "source": [
        "a=5\n",
        "type(a)"
      ],
      "execution_count": null,
      "outputs": [
        {
          "output_type": "execute_result",
          "data": {
            "text/plain": [
              "int"
            ]
          },
          "metadata": {
            "tags": []
          },
          "execution_count": 20
        }
      ]
    },
    {
      "cell_type": "code",
      "metadata": {
        "id": "pIhWiMMm6d2B",
        "colab_type": "code",
        "colab": {
          "base_uri": "https://localhost:8080/",
          "height": 34
        },
        "outputId": "c078b93a-cb37-407e-96c5-07332cd13626"
      },
      "source": [
        "b=1.25\n",
        "type(b)"
      ],
      "execution_count": null,
      "outputs": [
        {
          "output_type": "execute_result",
          "data": {
            "text/plain": [
              "float"
            ]
          },
          "metadata": {
            "tags": []
          },
          "execution_count": 21
        }
      ]
    },
    {
      "cell_type": "code",
      "metadata": {
        "id": "NuXcwRtk6iEg",
        "colab_type": "code",
        "colab": {
          "base_uri": "https://localhost:8080/",
          "height": 34
        },
        "outputId": "4aa66f4d-2201-4d6b-885b-8f59f0cb7f2e"
      },
      "source": [
        "c=2+3j\n",
        "type(c)"
      ],
      "execution_count": null,
      "outputs": [
        {
          "output_type": "execute_result",
          "data": {
            "text/plain": [
              "complex"
            ]
          },
          "metadata": {
            "tags": []
          },
          "execution_count": 22
        }
      ]
    },
    {
      "cell_type": "code",
      "metadata": {
        "id": "N3OUBN3U6k4X",
        "colab_type": "code",
        "colab": {
          "base_uri": "https://localhost:8080/",
          "height": 34
        },
        "outputId": "1d1b00a7-754f-43f0-fd5f-9a6f80bbacba"
      },
      "source": [
        "x=\"Rajarita\"\n",
        "type(x)"
      ],
      "execution_count": null,
      "outputs": [
        {
          "output_type": "execute_result",
          "data": {
            "text/plain": [
              "str"
            ]
          },
          "metadata": {
            "tags": []
          },
          "execution_count": 23
        }
      ]
    },
    {
      "cell_type": "code",
      "metadata": {
        "id": "QMKxzNwO6v-X",
        "colab_type": "code",
        "colab": {
          "base_uri": "https://localhost:8080/",
          "height": 34
        },
        "outputId": "58496ee0-28ac-4cb5-935f-61a6a4a10356"
      },
      "source": [
        "y=[1,1.2,\"Rohit\",30]\n",
        "type(y)"
      ],
      "execution_count": null,
      "outputs": [
        {
          "output_type": "execute_result",
          "data": {
            "text/plain": [
              "list"
            ]
          },
          "metadata": {
            "tags": []
          },
          "execution_count": 25
        }
      ]
    },
    {
      "cell_type": "code",
      "metadata": {
        "id": "V3c5QHn663tI",
        "colab_type": "code",
        "colab": {
          "base_uri": "https://localhost:8080/",
          "height": 34
        },
        "outputId": "5fbcc21c-5e62-4628-9a3a-00ab51b7e766"
      },
      "source": [
        "w=(1,1.25,30)\n",
        "type(w)"
      ],
      "execution_count": null,
      "outputs": [
        {
          "output_type": "execute_result",
          "data": {
            "text/plain": [
              "tuple"
            ]
          },
          "metadata": {
            "tags": []
          },
          "execution_count": 26
        }
      ]
    },
    {
      "cell_type": "markdown",
      "metadata": {
        "id": "usNLNEll7wiO",
        "colab_type": "text"
      },
      "source": [
        "# Question 7:\n",
        "Create a Markdown cell in jupyter and list the steps discussed in the session by Dr. Darshan\n",
        "Ingle sir to create Github profile and upload Githubs Assignment link."
      ]
    },
    {
      "cell_type": "markdown",
      "metadata": {
        "id": "LCu4KH8s8LjV",
        "colab_type": "text"
      },
      "source": [
        "1. We have to open GitHub.com and create a profile\n",
        "2. GitHub is the place where we push or upload our code either privately or publically but in this case we have to upload it publically\n",
        "3. Create a profile by signing in the gmail account\n",
        "4. After creating profile we have to create a  public repository named LetsUpgrade AI/ML.\n",
        "5. In this repo we can upload our assisgnment solution day wise.\n",
        " "
      ]
    },
    {
      "cell_type": "code",
      "metadata": {
        "id": "B3qFcE2P-axT",
        "colab_type": "code",
        "colab": {}
      },
      "source": [
        ""
      ],
      "execution_count": null,
      "outputs": []
    }
  ]
}