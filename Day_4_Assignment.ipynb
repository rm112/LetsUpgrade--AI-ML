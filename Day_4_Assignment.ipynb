{
  "nbformat": 4,
  "nbformat_minor": 0,
  "metadata": {
    "colab": {
      "name": "Day_4_Assignment.ipynb",
      "provenance": []
    },
    "kernelspec": {
      "name": "python3",
      "display_name": "Python 3"
    }
  },
  "cells": [
    {
      "cell_type": "markdown",
      "metadata": {
        "id": "vrT6uaecxBRI",
        "colab_type": "text"
      },
      "source": [
        "# Question 1 :\n",
        "Research on whether addition, subtraction, multiplication, division, floor division and modulo\n",
        "operations be performed on complex numbers. Based on your study, implement a Python\n",
        "program to demonstrate these operations."
      ]
    },
    {
      "cell_type": "code",
      "metadata": {
        "id": "3qT9rBMMxDOg",
        "colab_type": "code",
        "colab": {
          "base_uri": "https://localhost:8080/",
          "height": 34
        },
        "outputId": "104f736b-2fb8-446b-f85e-155f505d7d14"
      },
      "source": [
        "#Addition of two complex numbers\n",
        "a=4+3j\n",
        "b=3-7j\n",
        "c=a+b\n",
        "print(c)"
      ],
      "execution_count": 1,
      "outputs": [
        {
          "output_type": "stream",
          "text": [
            "(7-4j)\n"
          ],
          "name": "stdout"
        }
      ]
    },
    {
      "cell_type": "code",
      "metadata": {
        "id": "df0w10WHx483",
        "colab_type": "code",
        "colab": {
          "base_uri": "https://localhost:8080/",
          "height": 34
        },
        "outputId": "398b0597-2a71-4e5b-fa45-0d7e9facb52e"
      },
      "source": [
        "#Subtraction of two complex numbers\n",
        "p=4+3j\n",
        "q=3-7j\n",
        "r=p-q\n",
        "print(r)"
      ],
      "execution_count": 2,
      "outputs": [
        {
          "output_type": "stream",
          "text": [
            "(1+10j)\n"
          ],
          "name": "stdout"
        }
      ]
    },
    {
      "cell_type": "code",
      "metadata": {
        "id": "5dx_ouR4yMI-",
        "colab_type": "code",
        "colab": {
          "base_uri": "https://localhost:8080/",
          "height": 34
        },
        "outputId": "99cf9572-bea1-480e-c30e-11123db92932"
      },
      "source": [
        "#Multiplication of two complex numbers\n",
        "a=4+3j\n",
        "b=3-7j\n",
        "c=a*b\n",
        "print(c)"
      ],
      "execution_count": 3,
      "outputs": [
        {
          "output_type": "stream",
          "text": [
            "(33-19j)\n"
          ],
          "name": "stdout"
        }
      ]
    },
    {
      "cell_type": "code",
      "metadata": {
        "id": "mM4Z-oevyczc",
        "colab_type": "code",
        "colab": {
          "base_uri": "https://localhost:8080/",
          "height": 34
        },
        "outputId": "edd8b885-afc3-44bc-c76d-548ec8011ef6"
      },
      "source": [
        "#Division of two complex numbers\n",
        "x=4+3j\n",
        "y=3-7j\n",
        "z=x/y\n",
        "print(z)"
      ],
      "execution_count": 4,
      "outputs": [
        {
          "output_type": "stream",
          "text": [
            "(-0.15517241379310348+0.6379310344827587j)\n"
          ],
          "name": "stdout"
        }
      ]
    },
    {
      "cell_type": "code",
      "metadata": {
        "id": "5g-xoxRvyqPA",
        "colab_type": "code",
        "colab": {}
      },
      "source": [
        "#Modulo operation in complex numbers\n",
        "import cmath"
      ],
      "execution_count": 5,
      "outputs": []
    },
    {
      "cell_type": "code",
      "metadata": {
        "id": "a18uAO4nzITT",
        "colab_type": "code",
        "colab": {
          "base_uri": "https://localhost:8080/",
          "height": 51
        },
        "outputId": "ed40697a-30c2-4063-f80f-a67d96537668"
      },
      "source": [
        "x=complex(input(\"Enter complex number in form a+bj: \"))\n",
        "y=cmath.sqrt((x.real)**2+(x.imag)**2)\n",
        "print(\"The modulus of \",x,\" is\", y.real)"
      ],
      "execution_count": 6,
      "outputs": [
        {
          "output_type": "stream",
          "text": [
            "Enter complex number in form a+bj: 4+3j\n",
            "The modulus of  (4+3j)  is 5.0\n"
          ],
          "name": "stdout"
        }
      ]
    },
    {
      "cell_type": "markdown",
      "metadata": {
        "id": "P--VGMX30PaB",
        "colab_type": "text"
      },
      "source": [
        "Floor Division in complex number is not possible as it gives TypeError"
      ]
    },
    {
      "cell_type": "markdown",
      "metadata": {
        "id": "BO-7j9eE0bdp",
        "colab_type": "text"
      },
      "source": [
        "# Question 2 :\n",
        "Research on range() functions and its parameters. Create a markdown cell and write in your own\n",
        "words (no copy-paste from google please) what you understand about it. Implement a small\n",
        "program of your choice on the same."
      ]
    },
    {
      "cell_type": "markdown",
      "metadata": {
        "id": "4nrV1hqr0l_E",
        "colab_type": "text"
      },
      "source": [
        "range function is actually prints the numbers of given range.If we write (0,5) it prints the number starting from 0 to n-1 which in case is 5-1=4.\n",
        "range function is execute with loops.\n",
        "range function is also represent as(Starting Index,Ending Index,Stepsize)"
      ]
    },
    {
      "cell_type": "code",
      "metadata": {
        "id": "-kffMUsu0Gh3",
        "colab_type": "code",
        "colab": {
          "base_uri": "https://localhost:8080/",
          "height": 187
        },
        "outputId": "76394631-f3b4-43e8-be67-16b4fe8a7312"
      },
      "source": [
        "#Pr0gram of range function\n",
        "for i in range(0,10):#represents (Starting Index,Ending Index)\n",
        "  print(i) "
      ],
      "execution_count": 9,
      "outputs": [
        {
          "output_type": "stream",
          "text": [
            "0\n",
            "1\n",
            "2\n",
            "3\n",
            "4\n",
            "5\n",
            "6\n",
            "7\n",
            "8\n",
            "9\n"
          ],
          "name": "stdout"
        }
      ]
    },
    {
      "cell_type": "code",
      "metadata": {
        "id": "252DcRum1hvJ",
        "colab_type": "code",
        "colab": {
          "base_uri": "https://localhost:8080/",
          "height": 119
        },
        "outputId": "7a7b5095-ed59-467e-aa08-28f855f15d3e"
      },
      "source": [
        "for i in range(6):#represents the range upto n-1\n",
        "  print(i)"
      ],
      "execution_count": 10,
      "outputs": [
        {
          "output_type": "stream",
          "text": [
            "0\n",
            "1\n",
            "2\n",
            "3\n",
            "4\n",
            "5\n"
          ],
          "name": "stdout"
        }
      ]
    },
    {
      "cell_type": "code",
      "metadata": {
        "id": "0H_AodQz15xK",
        "colab_type": "code",
        "colab": {
          "base_uri": "https://localhost:8080/",
          "height": 170
        },
        "outputId": "1ffb57a7-0be4-4dfe-e4ce-a505e2ab81d8"
      },
      "source": [
        "for i in range(2,20,2):#represents (Starting Index,Ending Index, Stepsize)\n",
        "  print(i)"
      ],
      "execution_count": 11,
      "outputs": [
        {
          "output_type": "stream",
          "text": [
            "2\n",
            "4\n",
            "6\n",
            "8\n",
            "10\n",
            "12\n",
            "14\n",
            "16\n",
            "18\n"
          ],
          "name": "stdout"
        }
      ]
    },
    {
      "cell_type": "markdown",
      "metadata": {
        "id": "fvXbyHKa2Tq3",
        "colab_type": "text"
      },
      "source": [
        "# Question 3:\n",
        " Consider two numbers. Perform their subtraction and if the result of subtraction is greater than\n",
        "25, print their multiplication result else print their division result.\n",
        "\n"
      ]
    },
    {
      "cell_type": "code",
      "metadata": {
        "id": "h7vpZWTE2JJ2",
        "colab_type": "code",
        "colab": {
          "base_uri": "https://localhost:8080/",
          "height": 34
        },
        "outputId": "2124733a-0f57-447a-e136-00be9a80f202"
      },
      "source": [
        "a=20\n",
        "b=10\n",
        "c=a-b\n",
        "if(c>25):\n",
        "  print(a*b)\n",
        "else:\n",
        "  print(a/b)"
      ],
      "execution_count": 12,
      "outputs": [
        {
          "output_type": "stream",
          "text": [
            "2.0\n"
          ],
          "name": "stdout"
        }
      ]
    },
    {
      "cell_type": "markdown",
      "metadata": {
        "id": "tg7Q-ltP3N-j",
        "colab_type": "text"
      },
      "source": [
        "# Question 4:\n",
        "Consider a list of 10 elements of integer values. If the number in the list is divisible by 2, print the\n",
        "result as \"square of that number minus 2\".\n"
      ]
    },
    {
      "cell_type": "code",
      "metadata": {
        "id": "6aikFXM43LJH",
        "colab_type": "code",
        "colab": {
          "base_uri": "https://localhost:8080/",
          "height": 204
        },
        "outputId": "3ab1bda3-0741-435f-8fd7-ee01226a40cb"
      },
      "source": [
        "a=[1,2,3,4,5,6,7,8,9,10]\n",
        "for i in a:\n",
        "  print(i)\n",
        "if(i%2==0):\n",
        "  print(\"Square of that number minus 2\")\n"
      ],
      "execution_count": 16,
      "outputs": [
        {
          "output_type": "stream",
          "text": [
            "1\n",
            "2\n",
            "3\n",
            "4\n",
            "5\n",
            "6\n",
            "7\n",
            "8\n",
            "9\n",
            "10\n",
            "Square of that number minus 2\n"
          ],
          "name": "stdout"
        }
      ]
    },
    {
      "cell_type": "markdown",
      "metadata": {
        "id": "VLO3_L244nPK",
        "colab_type": "text"
      },
      "source": [
        "# Question 5:\n",
        "Consider a list of 10 elements. Print all the elements in the list which are greater than 7 when that\n",
        "number is divided 2."
      ]
    },
    {
      "cell_type": "code",
      "metadata": {
        "id": "LpgH_2kK30Qu",
        "colab_type": "code",
        "colab": {
          "base_uri": "https://localhost:8080/",
          "height": 102
        },
        "outputId": "89501bd2-1534-4ec9-81ac-b51d6936c6f3"
      },
      "source": [
        "a=[1,2,3,4,5,6,7,8,9,10]\n",
        "for i in range(7,11):\n",
        "  print(i)\n",
        "if(i%2==0):\n",
        "  print(i)\n"
      ],
      "execution_count": 19,
      "outputs": [
        {
          "output_type": "stream",
          "text": [
            "7\n",
            "8\n",
            "9\n",
            "10\n",
            "10\n"
          ],
          "name": "stdout"
        }
      ]
    },
    {
      "cell_type": "code",
      "metadata": {
        "id": "gGS8VZ3J6AX2",
        "colab_type": "code",
        "colab": {}
      },
      "source": [
        ""
      ],
      "execution_count": null,
      "outputs": []
    }
  ]
}