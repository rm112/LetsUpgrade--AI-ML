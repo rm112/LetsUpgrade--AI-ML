{
  "nbformat": 4,
  "nbformat_minor": 0,
  "metadata": {
    "colab": {
      "name": "Assignment Day 6 .ipynb",
      "provenance": [],
      "collapsed_sections": []
    },
    "kernelspec": {
      "name": "python3",
      "display_name": "Python 3"
    }
  },
  "cells": [
    {
      "cell_type": "markdown",
      "metadata": {
        "id": "bE0XQ-H4_vtx",
        "colab_type": "text"
      },
      "source": [
        "# Question 1:\n",
        "Assuming that we have some email addresses in the \"username@companyname.com\" format, please write program\n",
        "to print the company name of a given email address. Both user names and company names are composed of letters\n",
        "only.\n",
        "\n"
      ]
    },
    {
      "cell_type": "code",
      "metadata": {
        "id": "yEZyoiTPBDaV",
        "colab_type": "code",
        "colab": {}
      },
      "source": [
        "import re"
      ],
      "execution_count": 18,
      "outputs": []
    },
    {
      "cell_type": "code",
      "metadata": {
        "id": "YKJ3jqWaC5MU",
        "colab_type": "code",
        "colab": {
          "base_uri": "https://localhost:8080/",
          "height": 51
        },
        "outputId": "cd95c4bc-e0de-4a4f-edcb-525fe9d58030"
      },
      "source": [
        "emailAddress = input(\"Enter email addresses: \")\n",
        "pat2 = \"(\\w+)@((\\w+\\.)+(com))\"\n",
        "r2 = re.match(pat2,emailAddress)\n",
        "r3= r2.group(2)\n",
        "print(r3)"
      ],
      "execution_count": 20,
      "outputs": [
        {
          "output_type": "stream",
          "text": [
            "Enter email addresses: john@google.com\n",
            "google.com\n"
          ],
          "name": "stdout"
        }
      ]
    },
    {
      "cell_type": "markdown",
      "metadata": {
        "id": "XjmLblnYHQvj",
        "colab_type": "text"
      },
      "source": [
        "# Question 2:\n",
        "Write a program that accepts a comma-separated sequence of words as input and prints the words in a comma\n",
        "separated sequence after sorting them alphabetically"
      ]
    },
    {
      "cell_type": "code",
      "metadata": {
        "id": "vVjIUKJAHSfr",
        "colab_type": "code",
        "colab": {
          "base_uri": "https://localhost:8080/",
          "height": 51
        },
        "outputId": "4df62a2b-9b9f-43b3-f3e4-f304d0711ff8"
      },
      "source": [
        "items=[x for x in input(\"Enter Words :\").split(',')]\n",
        "items.sort()\n",
        "print(','.join(items))"
      ],
      "execution_count": 21,
      "outputs": [
        {
          "output_type": "stream",
          "text": [
            "Enter Words :without,hello,bag,world\n",
            "bag,hello,without,world\n"
          ],
          "name": "stdout"
        }
      ]
    },
    {
      "cell_type": "markdown",
      "metadata": {
        "id": "JwwUUdPbIjVa",
        "colab_type": "text"
      },
      "source": [
        "# Question 3:\n",
        "Create your own Jupyter Notebook for Sets.\n",
        "Reference link: https://www.w3schools.com/python/python_sets.asp"
      ]
    },
    {
      "cell_type": "markdown",
      "metadata": {
        "id": "vwsCsl5ZJmMn",
        "colab_type": "text"
      },
      "source": [
        "Set\n"
      ]
    },
    {
      "cell_type": "code",
      "metadata": {
        "id": "DhcEVytlIb13",
        "colab_type": "code",
        "colab": {
          "base_uri": "https://localhost:8080/",
          "height": 34
        },
        "outputId": "ac00971d-135c-4b00-d8aa-d7a07b69451f"
      },
      "source": [
        "thisset = {\"apple\", \"banana\", \"cherry\",\"mango\"}\n",
        "print(thisset)"
      ],
      "execution_count": 22,
      "outputs": [
        {
          "output_type": "stream",
          "text": [
            "{'cherry', 'mango', 'banana', 'apple'}\n"
          ],
          "name": "stdout"
        }
      ]
    },
    {
      "cell_type": "markdown",
      "metadata": {
        "id": "xa3BmFCNJ8b6",
        "colab_type": "text"
      },
      "source": [
        "Access Items"
      ]
    },
    {
      "cell_type": "code",
      "metadata": {
        "id": "n_XjtYS5J1Y9",
        "colab_type": "code",
        "colab": {
          "base_uri": "https://localhost:8080/",
          "height": 102
        },
        "outputId": "d7c5e31f-814c-4b00-9d4f-4fd4e1b9ebd6"
      },
      "source": [
        "thisset = {\"apple\", \"banana\", \"cherry\",\"mango\"}\n",
        "\n",
        "for x in thisset:\n",
        "  print(x)\n",
        "\n",
        "print(\"banana\" in thisset)"
      ],
      "execution_count": 24,
      "outputs": [
        {
          "output_type": "stream",
          "text": [
            "cherry\n",
            "mango\n",
            "banana\n",
            "apple\n",
            "True\n"
          ],
          "name": "stdout"
        }
      ]
    },
    {
      "cell_type": "markdown",
      "metadata": {
        "id": "fvNbPmM0KJIP",
        "colab_type": "text"
      },
      "source": [
        "Change Items\n",
        "Add Items"
      ]
    },
    {
      "cell_type": "code",
      "metadata": {
        "id": "F3jeqI0DKG0V",
        "colab_type": "code",
        "colab": {
          "base_uri": "https://localhost:8080/",
          "height": 34
        },
        "outputId": "81ef1afe-1c87-48ab-9212-1503c86a0638"
      },
      "source": [
        "thisset.add(\"orange\")\n",
        "\n",
        "print(thisset)"
      ],
      "execution_count": 25,
      "outputs": [
        {
          "output_type": "stream",
          "text": [
            "{'cherry', 'orange', 'banana', 'mango', 'apple'}\n"
          ],
          "name": "stdout"
        }
      ]
    },
    {
      "cell_type": "code",
      "metadata": {
        "id": "qEO6Aa7VKgQk",
        "colab_type": "code",
        "colab": {
          "base_uri": "https://localhost:8080/",
          "height": 34
        },
        "outputId": "d2dbb1ce-b876-4b74-eeb8-898320a77974"
      },
      "source": [
        "thisset.update([\"orange\", \"grapes\"])\n",
        "\n",
        "print(thisset)"
      ],
      "execution_count": 26,
      "outputs": [
        {
          "output_type": "stream",
          "text": [
            "{'cherry', 'orange', 'banana', 'grapes', 'mango', 'apple'}\n"
          ],
          "name": "stdout"
        }
      ]
    },
    {
      "cell_type": "markdown",
      "metadata": {
        "id": "zcf7VOCEKq5k",
        "colab_type": "text"
      },
      "source": [
        "Get the Length of a Set"
      ]
    },
    {
      "cell_type": "code",
      "metadata": {
        "id": "okqfIOQQKmzQ",
        "colab_type": "code",
        "colab": {
          "base_uri": "https://localhost:8080/",
          "height": 34
        },
        "outputId": "3f01651c-44f0-40bb-fc72-400d8fcdb947"
      },
      "source": [
        "print(len(thisset))"
      ],
      "execution_count": 27,
      "outputs": [
        {
          "output_type": "stream",
          "text": [
            "6\n"
          ],
          "name": "stdout"
        }
      ]
    },
    {
      "cell_type": "markdown",
      "metadata": {
        "id": "HYFck1T1Kzby",
        "colab_type": "text"
      },
      "source": [
        "Remove Item"
      ]
    },
    {
      "cell_type": "code",
      "metadata": {
        "id": "Dxnuxel9Kur9",
        "colab_type": "code",
        "colab": {
          "base_uri": "https://localhost:8080/",
          "height": 34
        },
        "outputId": "6f60907e-e5bd-4dbe-e459-74fac1eaf230"
      },
      "source": [
        "thisset.remove(\"banana\")\n",
        "\n",
        "print(thisset)"
      ],
      "execution_count": 28,
      "outputs": [
        {
          "output_type": "stream",
          "text": [
            "{'cherry', 'orange', 'grapes', 'mango', 'apple'}\n"
          ],
          "name": "stdout"
        }
      ]
    },
    {
      "cell_type": "code",
      "metadata": {
        "id": "LpFh49UCK6pc",
        "colab_type": "code",
        "colab": {
          "base_uri": "https://localhost:8080/",
          "height": 51
        },
        "outputId": "d6d00748-cd1b-4528-bb0d-9f410efd77cc"
      },
      "source": [
        "x = thisset.pop()\n",
        "\n",
        "print(x)\n",
        "\n",
        "print(thisset)"
      ],
      "execution_count": 29,
      "outputs": [
        {
          "output_type": "stream",
          "text": [
            "cherry\n",
            "{'orange', 'grapes', 'mango', 'apple'}\n"
          ],
          "name": "stdout"
        }
      ]
    },
    {
      "cell_type": "code",
      "metadata": {
        "id": "tzGtUXOxLbEU",
        "colab_type": "code",
        "colab": {
          "base_uri": "https://localhost:8080/",
          "height": 34
        },
        "outputId": "a4cd2335-67fa-4960-dd66-4dee76496925"
      },
      "source": [
        "thisset.clear()\n",
        "\n",
        "print(thisset)"
      ],
      "execution_count": 30,
      "outputs": [
        {
          "output_type": "stream",
          "text": [
            "set()\n"
          ],
          "name": "stdout"
        }
      ]
    },
    {
      "cell_type": "code",
      "metadata": {
        "id": "FLyQQkT5LgYP",
        "colab_type": "code",
        "colab": {}
      },
      "source": [
        "del thisset\n",
        "\n",
        "print(thisset)"
      ],
      "execution_count": null,
      "outputs": []
    },
    {
      "cell_type": "markdown",
      "metadata": {
        "id": "HadtiTS-MIkI",
        "colab_type": "text"
      },
      "source": [
        "Join Two Sets"
      ]
    },
    {
      "cell_type": "code",
      "metadata": {
        "id": "n9yWq25KLlOn",
        "colab_type": "code",
        "colab": {
          "base_uri": "https://localhost:8080/",
          "height": 34
        },
        "outputId": "263371a8-4930-4261-b2da-35f5af798ba1"
      },
      "source": [
        "set1 = {\"a\", \"b\" , \"c\"}\n",
        "set2 = {1, 2, 3}\n",
        "\n",
        "set3 = set1.union(set2)\n",
        "print(set3)"
      ],
      "execution_count": 32,
      "outputs": [
        {
          "output_type": "stream",
          "text": [
            "{1, 2, 3, 'a', 'c', 'b'}\n"
          ],
          "name": "stdout"
        }
      ]
    },
    {
      "cell_type": "code",
      "metadata": {
        "id": "u_4yqMJXMPr6",
        "colab_type": "code",
        "colab": {
          "base_uri": "https://localhost:8080/",
          "height": 34
        },
        "outputId": "cf7090ae-268e-4a91-bcd3-2f3647648f06"
      },
      "source": [
        "set1 = {\"a\", \"b\" , \"c\"}\n",
        "set2 = {1, 2, 3}\n",
        "\n",
        "set1.update(set2)\n",
        "print(set1)"
      ],
      "execution_count": 33,
      "outputs": [
        {
          "output_type": "stream",
          "text": [
            "{1, 2, 3, 'a', 'c', 'b'}\n"
          ],
          "name": "stdout"
        }
      ]
    },
    {
      "cell_type": "markdown",
      "metadata": {
        "id": "WHiYdR24MZJN",
        "colab_type": "text"
      },
      "source": [
        "The set() Constructor"
      ]
    },
    {
      "cell_type": "code",
      "metadata": {
        "id": "9SvbFaY_MU65",
        "colab_type": "code",
        "colab": {
          "base_uri": "https://localhost:8080/",
          "height": 34
        },
        "outputId": "8e4f3f88-5a35-4476-f8ab-730c678fe87a"
      },
      "source": [
        "thisset = set((\"apple\", \"banana\", \"cherry\")) \n",
        "print(thisset)"
      ],
      "execution_count": 34,
      "outputs": [
        {
          "output_type": "stream",
          "text": [
            "{'cherry', 'banana', 'apple'}\n"
          ],
          "name": "stdout"
        }
      ]
    },
    {
      "cell_type": "markdown",
      "metadata": {
        "id": "9hKinnYzMkk2",
        "colab_type": "text"
      },
      "source": [
        "# Question 4:\n",
        "Given a list of n-1 numbers ranging from 1 to n, your task is to find the missing number. There are no duplicates"
      ]
    },
    {
      "cell_type": "code",
      "metadata": {
        "id": "qAvkpbgBMe1j",
        "colab_type": "code",
        "colab": {
          "base_uri": "https://localhost:8080/",
          "height": 34
        },
        "outputId": "f5da724a-d275-4424-925b-7b425d3adc66"
      },
      "source": [
        "def getMissingNo(A): \n",
        "    n = len(A) \n",
        "    total = (n + 1)*(n + 2)/2\n",
        "    sum_of_A = sum(A) \n",
        "    return total- sum_of_A\n",
        "A =[1,2,4,6,3,7,8]\n",
        "miss = getMissingNo(A) \n",
        "print(miss) "
      ],
      "execution_count": 45,
      "outputs": [
        {
          "output_type": "stream",
          "text": [
            "5.0\n"
          ],
          "name": "stdout"
        }
      ]
    },
    {
      "cell_type": "markdown",
      "metadata": {
        "id": "83yKuUS4SHsn",
        "colab_type": "text"
      },
      "source": [
        "# Question 5:\n",
        "With a given list L, write a program to print this list L after removing all duplicate values with original order reserved.\n"
      ]
    },
    {
      "cell_type": "code",
      "metadata": {
        "id": "BPQ39vNWOIAc",
        "colab_type": "code",
        "colab": {
          "base_uri": "https://localhost:8080/",
          "height": 34
        },
        "outputId": "85b01afd-8309-4928-dfa5-ac62360d31a0"
      },
      "source": [
        "def Remove(duplicate): \n",
        "    final_list = [] \n",
        "    for num in duplicate: \n",
        "        if num not in final_list: \n",
        "            final_list.append(num) \n",
        "    return final_list \n",
        "duplicate = [12,24,35,24,88,120,155,88,120,155] \n",
        "print(Remove(duplicate))"
      ],
      "execution_count": 46,
      "outputs": [
        {
          "output_type": "stream",
          "text": [
            "[12, 24, 35, 88, 120, 155]\n"
          ],
          "name": "stdout"
        }
      ]
    },
    {
      "cell_type": "code",
      "metadata": {
        "id": "0SJmZkWhSqPB",
        "colab_type": "code",
        "colab": {}
      },
      "source": [
        ""
      ],
      "execution_count": null,
      "outputs": []
    }
  ]
}